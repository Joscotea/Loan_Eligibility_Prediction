{
 "cells": [
  {
   "cell_type": "code",
   "execution_count": 1,
   "id": "1e907dcd",
   "metadata": {
    "execution": {
     "iopub.execute_input": "2024-02-24T18:09:50.472004Z",
     "iopub.status.busy": "2024-02-24T18:09:50.471593Z",
     "iopub.status.idle": "2024-02-24T18:09:53.599236Z",
     "shell.execute_reply": "2024-02-24T18:09:53.598420Z"
    },
    "papermill": {
     "duration": 3.13952,
     "end_time": "2024-02-24T18:09:53.601593",
     "exception": false,
     "start_time": "2024-02-24T18:09:50.462073",
     "status": "completed"
    },
    "tags": []
   },
   "outputs": [],
   "source": [
    "import numpy as np\n",
    "import pandas as pd\n",
    "import seaborn as sns\n",
    "import matplotlib.pyplot as plt\n",
    "from sklearn.model_selection import train_test_split\n",
    "from sklearn import svm, metrics"
   ]
  },
  {
   "cell_type": "code",
   "execution_count": 2,
   "id": "9d38e6fd",
   "metadata": {
    "execution": {
     "iopub.execute_input": "2024-02-24T18:09:53.619057Z",
     "iopub.status.busy": "2024-02-24T18:09:53.617655Z",
     "iopub.status.idle": "2024-02-24T18:09:53.663298Z",
     "shell.execute_reply": "2024-02-24T18:09:53.661660Z"
    },
    "papermill": {
     "duration": 0.056468,
     "end_time": "2024-02-24T18:09:53.665611",
     "exception": false,
     "start_time": "2024-02-24T18:09:53.609143",
     "status": "completed"
    },
    "tags": []
   },
   "outputs": [
    {
     "data": {
      "text/html": [
       "<div>\n",
       "<style scoped>\n",
       "    .dataframe tbody tr th:only-of-type {\n",
       "        vertical-align: middle;\n",
       "    }\n",
       "\n",
       "    .dataframe tbody tr th {\n",
       "        vertical-align: top;\n",
       "    }\n",
       "\n",
       "    .dataframe thead th {\n",
       "        text-align: right;\n",
       "    }\n",
       "</style>\n",
       "<table border=\"1\" class=\"dataframe\">\n",
       "  <thead>\n",
       "    <tr style=\"text-align: right;\">\n",
       "      <th></th>\n",
       "      <th>Loan_ID</th>\n",
       "      <th>Gender</th>\n",
       "      <th>Married</th>\n",
       "      <th>Dependents</th>\n",
       "      <th>Education</th>\n",
       "      <th>Self_Employed</th>\n",
       "      <th>ApplicantIncome</th>\n",
       "      <th>CoapplicantIncome</th>\n",
       "      <th>LoanAmount</th>\n",
       "      <th>Loan_Amount_Term</th>\n",
       "      <th>Credit_History</th>\n",
       "      <th>Property_Area</th>\n",
       "      <th>Loan_Status</th>\n",
       "    </tr>\n",
       "  </thead>\n",
       "  <tbody>\n",
       "    <tr>\n",
       "      <th>0</th>\n",
       "      <td>LP001002</td>\n",
       "      <td>Male</td>\n",
       "      <td>No</td>\n",
       "      <td>0</td>\n",
       "      <td>Graduate</td>\n",
       "      <td>No</td>\n",
       "      <td>5849</td>\n",
       "      <td>0.0</td>\n",
       "      <td>NaN</td>\n",
       "      <td>360.0</td>\n",
       "      <td>1.0</td>\n",
       "      <td>Urban</td>\n",
       "      <td>Y</td>\n",
       "    </tr>\n",
       "    <tr>\n",
       "      <th>1</th>\n",
       "      <td>LP001003</td>\n",
       "      <td>Male</td>\n",
       "      <td>Yes</td>\n",
       "      <td>1</td>\n",
       "      <td>Graduate</td>\n",
       "      <td>No</td>\n",
       "      <td>4583</td>\n",
       "      <td>1508.0</td>\n",
       "      <td>128.0</td>\n",
       "      <td>360.0</td>\n",
       "      <td>1.0</td>\n",
       "      <td>Rural</td>\n",
       "      <td>N</td>\n",
       "    </tr>\n",
       "    <tr>\n",
       "      <th>2</th>\n",
       "      <td>LP001005</td>\n",
       "      <td>Male</td>\n",
       "      <td>Yes</td>\n",
       "      <td>0</td>\n",
       "      <td>Graduate</td>\n",
       "      <td>Yes</td>\n",
       "      <td>3000</td>\n",
       "      <td>0.0</td>\n",
       "      <td>66.0</td>\n",
       "      <td>360.0</td>\n",
       "      <td>1.0</td>\n",
       "      <td>Urban</td>\n",
       "      <td>Y</td>\n",
       "    </tr>\n",
       "    <tr>\n",
       "      <th>3</th>\n",
       "      <td>LP001006</td>\n",
       "      <td>Male</td>\n",
       "      <td>Yes</td>\n",
       "      <td>0</td>\n",
       "      <td>Not Graduate</td>\n",
       "      <td>No</td>\n",
       "      <td>2583</td>\n",
       "      <td>2358.0</td>\n",
       "      <td>120.0</td>\n",
       "      <td>360.0</td>\n",
       "      <td>1.0</td>\n",
       "      <td>Urban</td>\n",
       "      <td>Y</td>\n",
       "    </tr>\n",
       "    <tr>\n",
       "      <th>4</th>\n",
       "      <td>LP001008</td>\n",
       "      <td>Male</td>\n",
       "      <td>No</td>\n",
       "      <td>0</td>\n",
       "      <td>Graduate</td>\n",
       "      <td>No</td>\n",
       "      <td>6000</td>\n",
       "      <td>0.0</td>\n",
       "      <td>141.0</td>\n",
       "      <td>360.0</td>\n",
       "      <td>1.0</td>\n",
       "      <td>Urban</td>\n",
       "      <td>Y</td>\n",
       "    </tr>\n",
       "  </tbody>\n",
       "</table>\n",
       "</div>"
      ],
      "text/plain": [
       "    Loan_ID Gender Married Dependents     Education Self_Employed  \\\n",
       "0  LP001002   Male      No          0      Graduate            No   \n",
       "1  LP001003   Male     Yes          1      Graduate            No   \n",
       "2  LP001005   Male     Yes          0      Graduate           Yes   \n",
       "3  LP001006   Male     Yes          0  Not Graduate            No   \n",
       "4  LP001008   Male      No          0      Graduate            No   \n",
       "\n",
       "   ApplicantIncome  CoapplicantIncome  LoanAmount  Loan_Amount_Term  \\\n",
       "0             5849                0.0         NaN             360.0   \n",
       "1             4583             1508.0       128.0             360.0   \n",
       "2             3000                0.0        66.0             360.0   \n",
       "3             2583             2358.0       120.0             360.0   \n",
       "4             6000                0.0       141.0             360.0   \n",
       "\n",
       "   Credit_History Property_Area Loan_Status  \n",
       "0             1.0         Urban           Y  \n",
       "1             1.0         Rural           N  \n",
       "2             1.0         Urban           Y  \n",
       "3             1.0         Urban           Y  \n",
       "4             1.0         Urban           Y  "
      ]
     },
     "execution_count": 2,
     "metadata": {},
     "output_type": "execute_result"
    }
   ],
   "source": [
    "loan = pd.read_csv(\"/kaggle/input/loan-predication/train_u6lujuX_CVtuZ9i (1).csv\")\n",
    "loan.head()"
   ]
  },
  {
   "cell_type": "code",
   "execution_count": 3,
   "id": "6d4aba84",
   "metadata": {
    "execution": {
     "iopub.execute_input": "2024-02-24T18:09:53.683155Z",
     "iopub.status.busy": "2024-02-24T18:09:53.682437Z",
     "iopub.status.idle": "2024-02-24T18:09:53.689292Z",
     "shell.execute_reply": "2024-02-24T18:09:53.688286Z"
    },
    "papermill": {
     "duration": 0.017573,
     "end_time": "2024-02-24T18:09:53.691172",
     "exception": false,
     "start_time": "2024-02-24T18:09:53.673599",
     "status": "completed"
    },
    "tags": []
   },
   "outputs": [
    {
     "data": {
      "text/plain": [
       "(614, 13)"
      ]
     },
     "execution_count": 3,
     "metadata": {},
     "output_type": "execute_result"
    }
   ],
   "source": [
    "loan.shape"
   ]
  },
  {
   "cell_type": "code",
   "execution_count": 4,
   "id": "b0b037a2",
   "metadata": {
    "execution": {
     "iopub.execute_input": "2024-02-24T18:09:53.707878Z",
     "iopub.status.busy": "2024-02-24T18:09:53.707372Z",
     "iopub.status.idle": "2024-02-24T18:09:53.736411Z",
     "shell.execute_reply": "2024-02-24T18:09:53.735283Z"
    },
    "papermill": {
     "duration": 0.040275,
     "end_time": "2024-02-24T18:09:53.739044",
     "exception": false,
     "start_time": "2024-02-24T18:09:53.698769",
     "status": "completed"
    },
    "tags": []
   },
   "outputs": [
    {
     "data": {
      "text/html": [
       "<div>\n",
       "<style scoped>\n",
       "    .dataframe tbody tr th:only-of-type {\n",
       "        vertical-align: middle;\n",
       "    }\n",
       "\n",
       "    .dataframe tbody tr th {\n",
       "        vertical-align: top;\n",
       "    }\n",
       "\n",
       "    .dataframe thead th {\n",
       "        text-align: right;\n",
       "    }\n",
       "</style>\n",
       "<table border=\"1\" class=\"dataframe\">\n",
       "  <thead>\n",
       "    <tr style=\"text-align: right;\">\n",
       "      <th></th>\n",
       "      <th>ApplicantIncome</th>\n",
       "      <th>CoapplicantIncome</th>\n",
       "      <th>LoanAmount</th>\n",
       "      <th>Loan_Amount_Term</th>\n",
       "      <th>Credit_History</th>\n",
       "    </tr>\n",
       "  </thead>\n",
       "  <tbody>\n",
       "    <tr>\n",
       "      <th>count</th>\n",
       "      <td>614.000000</td>\n",
       "      <td>614.000000</td>\n",
       "      <td>592.000000</td>\n",
       "      <td>600.00000</td>\n",
       "      <td>564.000000</td>\n",
       "    </tr>\n",
       "    <tr>\n",
       "      <th>mean</th>\n",
       "      <td>5403.459283</td>\n",
       "      <td>1621.245798</td>\n",
       "      <td>146.412162</td>\n",
       "      <td>342.00000</td>\n",
       "      <td>0.842199</td>\n",
       "    </tr>\n",
       "    <tr>\n",
       "      <th>std</th>\n",
       "      <td>6109.041673</td>\n",
       "      <td>2926.248369</td>\n",
       "      <td>85.587325</td>\n",
       "      <td>65.12041</td>\n",
       "      <td>0.364878</td>\n",
       "    </tr>\n",
       "    <tr>\n",
       "      <th>min</th>\n",
       "      <td>150.000000</td>\n",
       "      <td>0.000000</td>\n",
       "      <td>9.000000</td>\n",
       "      <td>12.00000</td>\n",
       "      <td>0.000000</td>\n",
       "    </tr>\n",
       "    <tr>\n",
       "      <th>25%</th>\n",
       "      <td>2877.500000</td>\n",
       "      <td>0.000000</td>\n",
       "      <td>100.000000</td>\n",
       "      <td>360.00000</td>\n",
       "      <td>1.000000</td>\n",
       "    </tr>\n",
       "    <tr>\n",
       "      <th>50%</th>\n",
       "      <td>3812.500000</td>\n",
       "      <td>1188.500000</td>\n",
       "      <td>128.000000</td>\n",
       "      <td>360.00000</td>\n",
       "      <td>1.000000</td>\n",
       "    </tr>\n",
       "    <tr>\n",
       "      <th>75%</th>\n",
       "      <td>5795.000000</td>\n",
       "      <td>2297.250000</td>\n",
       "      <td>168.000000</td>\n",
       "      <td>360.00000</td>\n",
       "      <td>1.000000</td>\n",
       "    </tr>\n",
       "    <tr>\n",
       "      <th>max</th>\n",
       "      <td>81000.000000</td>\n",
       "      <td>41667.000000</td>\n",
       "      <td>700.000000</td>\n",
       "      <td>480.00000</td>\n",
       "      <td>1.000000</td>\n",
       "    </tr>\n",
       "  </tbody>\n",
       "</table>\n",
       "</div>"
      ],
      "text/plain": [
       "       ApplicantIncome  CoapplicantIncome  LoanAmount  Loan_Amount_Term  \\\n",
       "count       614.000000         614.000000  592.000000         600.00000   \n",
       "mean       5403.459283        1621.245798  146.412162         342.00000   \n",
       "std        6109.041673        2926.248369   85.587325          65.12041   \n",
       "min         150.000000           0.000000    9.000000          12.00000   \n",
       "25%        2877.500000           0.000000  100.000000         360.00000   \n",
       "50%        3812.500000        1188.500000  128.000000         360.00000   \n",
       "75%        5795.000000        2297.250000  168.000000         360.00000   \n",
       "max       81000.000000       41667.000000  700.000000         480.00000   \n",
       "\n",
       "       Credit_History  \n",
       "count      564.000000  \n",
       "mean         0.842199  \n",
       "std          0.364878  \n",
       "min          0.000000  \n",
       "25%          1.000000  \n",
       "50%          1.000000  \n",
       "75%          1.000000  \n",
       "max          1.000000  "
      ]
     },
     "execution_count": 4,
     "metadata": {},
     "output_type": "execute_result"
    }
   ],
   "source": [
    "loan.describe()"
   ]
  },
  {
   "cell_type": "code",
   "execution_count": 5,
   "id": "85c8fd44",
   "metadata": {
    "execution": {
     "iopub.execute_input": "2024-02-24T18:09:53.757335Z",
     "iopub.status.busy": "2024-02-24T18:09:53.756310Z",
     "iopub.status.idle": "2024-02-24T18:09:53.783560Z",
     "shell.execute_reply": "2024-02-24T18:09:53.782004Z"
    },
    "papermill": {
     "duration": 0.03843,
     "end_time": "2024-02-24T18:09:53.785582",
     "exception": false,
     "start_time": "2024-02-24T18:09:53.747152",
     "status": "completed"
    },
    "tags": []
   },
   "outputs": [
    {
     "name": "stdout",
     "output_type": "stream",
     "text": [
      "<class 'pandas.core.frame.DataFrame'>\n",
      "RangeIndex: 614 entries, 0 to 613\n",
      "Data columns (total 13 columns):\n",
      " #   Column             Non-Null Count  Dtype  \n",
      "---  ------             --------------  -----  \n",
      " 0   Loan_ID            614 non-null    object \n",
      " 1   Gender             601 non-null    object \n",
      " 2   Married            611 non-null    object \n",
      " 3   Dependents         599 non-null    object \n",
      " 4   Education          614 non-null    object \n",
      " 5   Self_Employed      582 non-null    object \n",
      " 6   ApplicantIncome    614 non-null    int64  \n",
      " 7   CoapplicantIncome  614 non-null    float64\n",
      " 8   LoanAmount         592 non-null    float64\n",
      " 9   Loan_Amount_Term   600 non-null    float64\n",
      " 10  Credit_History     564 non-null    float64\n",
      " 11  Property_Area      614 non-null    object \n",
      " 12  Loan_Status        614 non-null    object \n",
      "dtypes: float64(4), int64(1), object(8)\n",
      "memory usage: 62.5+ KB\n"
     ]
    }
   ],
   "source": [
    "loan.info()"
   ]
  },
  {
   "cell_type": "code",
   "execution_count": 6,
   "id": "7528a2fd",
   "metadata": {
    "execution": {
     "iopub.execute_input": "2024-02-24T18:09:53.803508Z",
     "iopub.status.busy": "2024-02-24T18:09:53.803199Z",
     "iopub.status.idle": "2024-02-24T18:09:53.813147Z",
     "shell.execute_reply": "2024-02-24T18:09:53.811648Z"
    },
    "papermill": {
     "duration": 0.021792,
     "end_time": "2024-02-24T18:09:53.815634",
     "exception": false,
     "start_time": "2024-02-24T18:09:53.793842",
     "status": "completed"
    },
    "tags": []
   },
   "outputs": [
    {
     "data": {
      "text/plain": [
       "Loan_ID               0\n",
       "Gender               13\n",
       "Married               3\n",
       "Dependents           15\n",
       "Education             0\n",
       "Self_Employed        32\n",
       "ApplicantIncome       0\n",
       "CoapplicantIncome     0\n",
       "LoanAmount           22\n",
       "Loan_Amount_Term     14\n",
       "Credit_History       50\n",
       "Property_Area         0\n",
       "Loan_Status           0\n",
       "dtype: int64"
      ]
     },
     "execution_count": 6,
     "metadata": {},
     "output_type": "execute_result"
    }
   ],
   "source": [
    "loan.isnull().sum()"
   ]
  },
  {
   "cell_type": "code",
   "execution_count": 7,
   "id": "710937cb",
   "metadata": {
    "execution": {
     "iopub.execute_input": "2024-02-24T18:09:53.833933Z",
     "iopub.status.busy": "2024-02-24T18:09:53.833555Z",
     "iopub.status.idle": "2024-02-24T18:09:53.843314Z",
     "shell.execute_reply": "2024-02-24T18:09:53.841979Z"
    },
    "papermill": {
     "duration": 0.021412,
     "end_time": "2024-02-24T18:09:53.845231",
     "exception": false,
     "start_time": "2024-02-24T18:09:53.823819",
     "status": "completed"
    },
    "tags": []
   },
   "outputs": [
    {
     "data": {
      "text/plain": [
       "Loan_ID               object\n",
       "Gender                object\n",
       "Married               object\n",
       "Dependents            object\n",
       "Education             object\n",
       "Self_Employed         object\n",
       "ApplicantIncome        int64\n",
       "CoapplicantIncome    float64\n",
       "LoanAmount           float64\n",
       "Loan_Amount_Term     float64\n",
       "Credit_History       float64\n",
       "Property_Area         object\n",
       "Loan_Status           object\n",
       "dtype: object"
      ]
     },
     "execution_count": 7,
     "metadata": {},
     "output_type": "execute_result"
    }
   ],
   "source": [
    "loan.dtypes"
   ]
  },
  {
   "cell_type": "code",
   "execution_count": 8,
   "id": "80fefa31",
   "metadata": {
    "execution": {
     "iopub.execute_input": "2024-02-24T18:09:53.864006Z",
     "iopub.status.busy": "2024-02-24T18:09:53.863591Z",
     "iopub.status.idle": "2024-02-24T18:09:54.761515Z",
     "shell.execute_reply": "2024-02-24T18:09:54.760054Z"
    },
    "papermill": {
     "duration": 0.909719,
     "end_time": "2024-02-24T18:09:54.764014",
     "exception": false,
     "start_time": "2024-02-24T18:09:53.854295",
     "status": "completed"
    },
    "tags": []
   },
   "outputs": [
    {
     "data": {
      "image/png": "[encoded data removed]",
      "text/plain": [
       "<Figure size 640x480 with 6 Axes>"
      ]
     },
     "metadata": {},
     "output_type": "display_data"
    }
   ],
   "source": [
    "fig, ax = plt.subplots(2,3)\n",
    "sns.countplot(x=\"Gender\", hue=\"Married\", data=loan, ax=ax[0,0])\n",
    "sns.countplot(x=\"Gender\", hue=\"Dependents\", data=loan, ax=ax[0,1])\n",
    "sns.countplot(x=\"Gender\", hue=\"Education\", data=loan, ax=ax[0,2])\n",
    "sns.countplot(x=\"Gender\", hue=\"Self_Employed\", data=loan, ax=ax[1,0])\n",
    "sns.countplot(x=\"Gender\", hue=\"Property_Area\", data=loan, ax=ax[1,1])\n",
    "sns.countplot(x=\"Gender\", hue=\"Loan_Status\", data=loan, ax=ax[1,2])\n",
    "plt.tight_layout()\n",
    "fig.show()"
   ]
  },
  {
   "cell_type": "code",
   "execution_count": 9,
   "id": "97213ef4",
   "metadata": {
    "execution": {
     "iopub.execute_input": "2024-02-24T18:09:54.785730Z",
     "iopub.status.busy": "2024-02-24T18:09:54.785342Z",
     "iopub.status.idle": "2024-02-24T18:09:54.794185Z",
     "shell.execute_reply": "2024-02-24T18:09:54.793290Z"
    },
    "papermill": {
     "duration": 0.021739,
     "end_time": "2024-02-24T18:09:54.796183",
     "exception": false,
     "start_time": "2024-02-24T18:09:54.774444",
     "status": "completed"
    },
    "tags": []
   },
   "outputs": [
    {
     "name": "stderr",
     "output_type": "stream",
     "text": [
      "/tmp/ipykernel_18/1642420967.py:4: FutureWarning: A value is trying to be set on a copy of a DataFrame or Series through chained assignment using an inplace method.\n",
      "The behavior will change in pandas 3.0. This inplace method will never work because the intermediate object on which we are setting values always behaves as a copy.\n",
      "\n",
      "For example, when doing 'df[col].method(value, inplace=True)', try using 'df.method({col: value}, inplace=True)' or df[col] = df[col].method(value) instead, to perform the operation inplace on the original object.\n",
      "\n",
      "\n",
      "  loan[\"Gender\"].replace({'Male': 1, 'Female': 0}, inplace=True)\n",
      "/tmp/ipykernel_18/1642420967.py:4: FutureWarning: Downcasting behavior in `replace` is deprecated and will be removed in a future version. To retain the old behavior, explicitly call `result.infer_objects(copy=False)`. To opt-in to the future behavior, set `pd.set_option('future.no_silent_downcasting', True)`\n",
      "  loan[\"Gender\"].replace({'Male': 1, 'Female': 0}, inplace=True)\n"
     ]
    }
   ],
   "source": [
    "# Check the value count for the Gender feature and convert non-numeric values\n",
    "loan[\"Gender\"].value_counts()\n",
    "# Convert “Female” to 0 and “Male” to 1\n",
    "loan[\"Gender\"].replace({'Male': 1, 'Female': 0}, inplace=True)"
   ]
  },
  {
   "cell_type": "code",
   "execution_count": 10,
   "id": "1bb0ee57",
   "metadata": {
    "execution": {
     "iopub.execute_input": "2024-02-24T18:09:54.814619Z",
     "iopub.status.busy": "2024-02-24T18:09:54.814300Z",
     "iopub.status.idle": "2024-02-24T18:09:54.823189Z",
     "shell.execute_reply": "2024-02-24T18:09:54.821517Z"
    },
    "papermill": {
     "duration": 0.021245,
     "end_time": "2024-02-24T18:09:54.826054",
     "exception": false,
     "start_time": "2024-02-24T18:09:54.804809",
     "status": "completed"
    },
    "tags": []
   },
   "outputs": [
    {
     "name": "stderr",
     "output_type": "stream",
     "text": [
      "/tmp/ipykernel_18/2539697136.py:3: FutureWarning: A value is trying to be set on a copy of a DataFrame or Series through chained assignment using an inplace method.\n",
      "The behavior will change in pandas 3.0. This inplace method will never work because the intermediate object on which we are setting values always behaves as a copy.\n",
      "\n",
      "For example, when doing 'df[col].method(value, inplace=True)', try using 'df.method({col: value}, inplace=True)' or df[col] = df[col].method(value) instead, to perform the operation inplace on the original object.\n",
      "\n",
      "\n",
      "  loan[\"Married\"].replace({'Yes': 1, 'No': 0}, inplace=True)\n",
      "/tmp/ipykernel_18/2539697136.py:3: FutureWarning: Downcasting behavior in `replace` is deprecated and will be removed in a future version. To retain the old behavior, explicitly call `result.infer_objects(copy=False)`. To opt-in to the future behavior, set `pd.set_option('future.no_silent_downcasting', True)`\n",
      "  loan[\"Married\"].replace({'Yes': 1, 'No': 0}, inplace=True)\n"
     ]
    }
   ],
   "source": [
    "# Check the value count for the Married feature and convert non-numeric values\n",
    "loan[\"Married\"].value_counts()\n",
    "loan[\"Married\"].replace({'Yes': 1, 'No': 0}, inplace=True)"
   ]
  },
  {
   "cell_type": "code",
   "execution_count": 11,
   "id": "c6ce37b2",
   "metadata": {
    "execution": {
     "iopub.execute_input": "2024-02-24T18:09:54.847556Z",
     "iopub.status.busy": "2024-02-24T18:09:54.847206Z",
     "iopub.status.idle": "2024-02-24T18:09:54.855817Z",
     "shell.execute_reply": "2024-02-24T18:09:54.854327Z"
    },
    "papermill": {
     "duration": 0.021576,
     "end_time": "2024-02-24T18:09:54.858340",
     "exception": false,
     "start_time": "2024-02-24T18:09:54.836764",
     "status": "completed"
    },
    "tags": []
   },
   "outputs": [
    {
     "name": "stderr",
     "output_type": "stream",
     "text": [
      "/tmp/ipykernel_18/1195615028.py:3: FutureWarning: A value is trying to be set on a copy of a DataFrame or Series through chained assignment using an inplace method.\n",
      "The behavior will change in pandas 3.0. This inplace method will never work because the intermediate object on which we are setting values always behaves as a copy.\n",
      "\n",
      "For example, when doing 'df[col].method(value, inplace=True)', try using 'df.method({col: value}, inplace=True)' or df[col] = df[col].method(value) instead, to perform the operation inplace on the original object.\n",
      "\n",
      "\n",
      "  loan[\"Dependents\"].replace({'0' : 0, '1' : 1, '2' : 2, '3+': 3}, inplace=True)\n",
      "/tmp/ipykernel_18/1195615028.py:3: FutureWarning: Downcasting behavior in `replace` is deprecated and will be removed in a future version. To retain the old behavior, explicitly call `result.infer_objects(copy=False)`. To opt-in to the future behavior, set `pd.set_option('future.no_silent_downcasting', True)`\n",
      "  loan[\"Dependents\"].replace({'0' : 0, '1' : 1, '2' : 2, '3+': 3}, inplace=True)\n"
     ]
    }
   ],
   "source": [
    "# Check the value count for the Dependents feature and convert non-numeric values\n",
    "loan[\"Dependents\"].value_counts()\n",
    "loan[\"Dependents\"].replace({'0' : 0, '1' : 1, '2' : 2, '3+': 3}, inplace=True)"
   ]
  },
  {
   "cell_type": "code",
   "execution_count": 12,
   "id": "313ae06c",
   "metadata": {
    "execution": {
     "iopub.execute_input": "2024-02-24T18:09:54.878067Z",
     "iopub.status.busy": "2024-02-24T18:09:54.877671Z",
     "iopub.status.idle": "2024-02-24T18:09:54.885653Z",
     "shell.execute_reply": "2024-02-24T18:09:54.883779Z"
    },
    "papermill": {
     "duration": 0.02023,
     "end_time": "2024-02-24T18:09:54.887543",
     "exception": false,
     "start_time": "2024-02-24T18:09:54.867313",
     "status": "completed"
    },
    "tags": []
   },
   "outputs": [
    {
     "name": "stderr",
     "output_type": "stream",
     "text": [
      "/tmp/ipykernel_18/2803372652.py:3: FutureWarning: A value is trying to be set on a copy of a DataFrame or Series through chained assignment using an inplace method.\n",
      "The behavior will change in pandas 3.0. This inplace method will never work because the intermediate object on which we are setting values always behaves as a copy.\n",
      "\n",
      "For example, when doing 'df[col].method(value, inplace=True)', try using 'df.method({col: value}, inplace=True)' or df[col] = df[col].method(value) instead, to perform the operation inplace on the original object.\n",
      "\n",
      "\n",
      "  loan[\"Education\"].replace({'Graduate': 1, 'Not Graduate': 0}, inplace=True)\n",
      "/tmp/ipykernel_18/2803372652.py:3: FutureWarning: Downcasting behavior in `replace` is deprecated and will be removed in a future version. To retain the old behavior, explicitly call `result.infer_objects(copy=False)`. To opt-in to the future behavior, set `pd.set_option('future.no_silent_downcasting', True)`\n",
      "  loan[\"Education\"].replace({'Graduate': 1, 'Not Graduate': 0}, inplace=True)\n"
     ]
    }
   ],
   "source": [
    "# Check the value count for the Education feature and convert non-numeric values\n",
    "loan[\"Education\"].value_counts()\n",
    "loan[\"Education\"].replace({'Graduate': 1, 'Not Graduate': 0}, inplace=True)"
   ]
  },
  {
   "cell_type": "code",
   "execution_count": 13,
   "id": "14461d1e",
   "metadata": {
    "execution": {
     "iopub.execute_input": "2024-02-24T18:09:54.907626Z",
     "iopub.status.busy": "2024-02-24T18:09:54.907296Z",
     "iopub.status.idle": "2024-02-24T18:09:54.914940Z",
     "shell.execute_reply": "2024-02-24T18:09:54.913557Z"
    },
    "papermill": {
     "duration": 0.020492,
     "end_time": "2024-02-24T18:09:54.917066",
     "exception": false,
     "start_time": "2024-02-24T18:09:54.896574",
     "status": "completed"
    },
    "tags": []
   },
   "outputs": [
    {
     "name": "stderr",
     "output_type": "stream",
     "text": [
      "/tmp/ipykernel_18/3360183270.py:3: FutureWarning: A value is trying to be set on a copy of a DataFrame or Series through chained assignment using an inplace method.\n",
      "The behavior will change in pandas 3.0. This inplace method will never work because the intermediate object on which we are setting values always behaves as a copy.\n",
      "\n",
      "For example, when doing 'df[col].method(value, inplace=True)', try using 'df.method({col: value}, inplace=True)' or df[col] = df[col].method(value) instead, to perform the operation inplace on the original object.\n",
      "\n",
      "\n",
      "  loan[\"Self_Employed\"].replace({'Yes': 1, 'No': 0}, inplace=True)\n",
      "/tmp/ipykernel_18/3360183270.py:3: FutureWarning: Downcasting behavior in `replace` is deprecated and will be removed in a future version. To retain the old behavior, explicitly call `result.infer_objects(copy=False)`. To opt-in to the future behavior, set `pd.set_option('future.no_silent_downcasting', True)`\n",
      "  loan[\"Self_Employed\"].replace({'Yes': 1, 'No': 0}, inplace=True)\n"
     ]
    }
   ],
   "source": [
    "# Check the value count for the Self_Employed feature and convert non-numeric values\n",
    "loan[\"Self_Employed\"].value_counts()\n",
    "loan[\"Self_Employed\"].replace({'Yes': 1, 'No': 0}, inplace=True)"
   ]
  },
  {
   "cell_type": "code",
   "execution_count": 14,
   "id": "99084fbb",
   "metadata": {
    "execution": {
     "iopub.execute_input": "2024-02-24T18:09:54.937620Z",
     "iopub.status.busy": "2024-02-24T18:09:54.937255Z",
     "iopub.status.idle": "2024-02-24T18:09:54.946670Z",
     "shell.execute_reply": "2024-02-24T18:09:54.945231Z"
    },
    "papermill": {
     "duration": 0.022249,
     "end_time": "2024-02-24T18:09:54.948811",
     "exception": false,
     "start_time": "2024-02-24T18:09:54.926562",
     "status": "completed"
    },
    "tags": []
   },
   "outputs": [
    {
     "name": "stderr",
     "output_type": "stream",
     "text": [
      "/tmp/ipykernel_18/1628749452.py:3: FutureWarning: A value is trying to be set on a copy of a DataFrame or Series through chained assignment using an inplace method.\n",
      "The behavior will change in pandas 3.0. This inplace method will never work because the intermediate object on which we are setting values always behaves as a copy.\n",
      "\n",
      "For example, when doing 'df[col].method(value, inplace=True)', try using 'df.method({col: value}, inplace=True)' or df[col] = df[col].method(value) instead, to perform the operation inplace on the original object.\n",
      "\n",
      "\n",
      "  loan[\"Property_Area\"].replace({'Semiurban': 1, 'Urban': 2, 'Rural': 0}, inplace=True)\n",
      "/tmp/ipykernel_18/1628749452.py:3: FutureWarning: Downcasting behavior in `replace` is deprecated and will be removed in a future version. To retain the old behavior, explicitly call `result.infer_objects(copy=False)`. To opt-in to the future behavior, set `pd.set_option('future.no_silent_downcasting', True)`\n",
      "  loan[\"Property_Area\"].replace({'Semiurban': 1, 'Urban': 2, 'Rural': 0}, inplace=True)\n"
     ]
    }
   ],
   "source": [
    "# Check the value count for the Property_Area feature and convert non-numeric values\n",
    "loan[\"Property_Area\"].value_counts()\n",
    "loan[\"Property_Area\"].replace({'Semiurban': 1, 'Urban': 2, 'Rural': 0}, inplace=True)"
   ]
  },
  {
   "cell_type": "code",
   "execution_count": 15,
   "id": "45b11f72",
   "metadata": {
    "execution": {
     "iopub.execute_input": "2024-02-24T18:09:54.968601Z",
     "iopub.status.busy": "2024-02-24T18:09:54.968294Z",
     "iopub.status.idle": "2024-02-24T18:09:54.976072Z",
     "shell.execute_reply": "2024-02-24T18:09:54.974550Z"
    },
    "papermill": {
     "duration": 0.019986,
     "end_time": "2024-02-24T18:09:54.978174",
     "exception": false,
     "start_time": "2024-02-24T18:09:54.958188",
     "status": "completed"
    },
    "tags": []
   },
   "outputs": [
    {
     "name": "stderr",
     "output_type": "stream",
     "text": [
      "/tmp/ipykernel_18/2041625045.py:3: FutureWarning: A value is trying to be set on a copy of a DataFrame or Series through chained assignment using an inplace method.\n",
      "The behavior will change in pandas 3.0. This inplace method will never work because the intermediate object on which we are setting values always behaves as a copy.\n",
      "\n",
      "For example, when doing 'df[col].method(value, inplace=True)', try using 'df.method({col: value}, inplace=True)' or df[col] = df[col].method(value) instead, to perform the operation inplace on the original object.\n",
      "\n",
      "\n",
      "  loan[\"Loan_Status\"].replace({'Y': 1, 'N': 0}, inplace=True)\n",
      "/tmp/ipykernel_18/2041625045.py:3: FutureWarning: Downcasting behavior in `replace` is deprecated and will be removed in a future version. To retain the old behavior, explicitly call `result.infer_objects(copy=False)`. To opt-in to the future behavior, set `pd.set_option('future.no_silent_downcasting', True)`\n",
      "  loan[\"Loan_Status\"].replace({'Y': 1, 'N': 0}, inplace=True)\n"
     ]
    }
   ],
   "source": [
    "# Check the value count for the Loan_Status feature and convert non-numeric values\n",
    "loan[\"Loan_Status\"].value_counts()\n",
    "loan[\"Loan_Status\"].replace({'Y': 1, 'N': 0}, inplace=True)"
   ]
  },
  {
   "cell_type": "code",
   "execution_count": 16,
   "id": "1f6b5398",
   "metadata": {
    "execution": {
     "iopub.execute_input": "2024-02-24T18:09:54.998965Z",
     "iopub.status.busy": "2024-02-24T18:09:54.998612Z",
     "iopub.status.idle": "2024-02-24T18:09:55.007572Z",
     "shell.execute_reply": "2024-02-24T18:09:55.005788Z"
    },
    "papermill": {
     "duration": 0.022549,
     "end_time": "2024-02-24T18:09:55.010418",
     "exception": false,
     "start_time": "2024-02-24T18:09:54.987869",
     "status": "completed"
    },
    "tags": []
   },
   "outputs": [
    {
     "data": {
      "text/plain": [
       "Loan_ID               object\n",
       "Gender               float64\n",
       "Married              float64\n",
       "Dependents           float64\n",
       "Education              int64\n",
       "Self_Employed        float64\n",
       "ApplicantIncome        int64\n",
       "CoapplicantIncome    float64\n",
       "LoanAmount           float64\n",
       "Loan_Amount_Term     float64\n",
       "Credit_History       float64\n",
       "Property_Area          int64\n",
       "Loan_Status            int64\n",
       "dtype: object"
      ]
     },
     "execution_count": 16,
     "metadata": {},
     "output_type": "execute_result"
    }
   ],
   "source": [
    "loan.dtypes"
   ]
  },
  {
   "cell_type": "code",
   "execution_count": 17,
   "id": "35888902",
   "metadata": {
    "execution": {
     "iopub.execute_input": "2024-02-24T18:09:55.030494Z",
     "iopub.status.busy": "2024-02-24T18:09:55.030189Z",
     "iopub.status.idle": "2024-02-24T18:09:55.040217Z",
     "shell.execute_reply": "2024-02-24T18:09:55.039128Z"
    },
    "papermill": {
     "duration": 0.023035,
     "end_time": "2024-02-24T18:09:55.042849",
     "exception": false,
     "start_time": "2024-02-24T18:09:55.019814",
     "status": "completed"
    },
    "tags": []
   },
   "outputs": [
    {
     "data": {
      "text/plain": [
       "Loan_ID               0\n",
       "Gender               13\n",
       "Married               3\n",
       "Dependents           15\n",
       "Education             0\n",
       "Self_Employed        32\n",
       "ApplicantIncome       0\n",
       "CoapplicantIncome     0\n",
       "LoanAmount           22\n",
       "Loan_Amount_Term     14\n",
       "Credit_History       50\n",
       "Property_Area         0\n",
       "Loan_Status           0\n",
       "dtype: int64"
      ]
     },
     "execution_count": 17,
     "metadata": {},
     "output_type": "execute_result"
    }
   ],
   "source": [
    "loan.isnull().sum()"
   ]
  },
  {
   "cell_type": "code",
   "execution_count": 18,
   "id": "56a1b308",
   "metadata": {
    "execution": {
     "iopub.execute_input": "2024-02-24T18:09:55.064611Z",
     "iopub.status.busy": "2024-02-24T18:09:55.064225Z",
     "iopub.status.idle": "2024-02-24T18:09:55.074201Z",
     "shell.execute_reply": "2024-02-24T18:09:55.073219Z"
    },
    "papermill": {
     "duration": 0.022871,
     "end_time": "2024-02-24T18:09:55.076207",
     "exception": false,
     "start_time": "2024-02-24T18:09:55.053336",
     "status": "completed"
    },
    "tags": []
   },
   "outputs": [],
   "source": [
    "# display the mode for Gender\n",
    "loan['Gender'].mode()\n",
    "# select the first value using index 0 \n",
    "loan['Gender'].mode()[0]\n",
    "# Replace null values\n",
    "loan[\"Gender\"].fillna(value=loan['Gender'].mode()[0],inplace=True)"
   ]
  },
  {
   "cell_type": "code",
   "execution_count": 19,
   "id": "4b2491e6",
   "metadata": {
    "execution": {
     "iopub.execute_input": "2024-02-24T18:09:55.096923Z",
     "iopub.status.busy": "2024-02-24T18:09:55.096533Z",
     "iopub.status.idle": "2024-02-24T18:09:55.102629Z",
     "shell.execute_reply": "2024-02-24T18:09:55.101300Z"
    },
    "papermill": {
     "duration": 0.019327,
     "end_time": "2024-02-24T18:09:55.105038",
     "exception": false,
     "start_time": "2024-02-24T18:09:55.085711",
     "status": "completed"
    },
    "tags": []
   },
   "outputs": [],
   "source": [
    "# display the mode for Married\n",
    "loan['Married'].mode()[0]\n",
    "# Replace null values\n",
    "loan[\"Married\"].fillna(value=loan['Gender'].mode()[0],inplace=True)"
   ]
  },
  {
   "cell_type": "code",
   "execution_count": 20,
   "id": "2a8d1aa0",
   "metadata": {
    "execution": {
     "iopub.execute_input": "2024-02-24T18:09:55.125957Z",
     "iopub.status.busy": "2024-02-24T18:09:55.125601Z",
     "iopub.status.idle": "2024-02-24T18:09:55.132502Z",
     "shell.execute_reply": "2024-02-24T18:09:55.130832Z"
    },
    "papermill": {
     "duration": 0.02005,
     "end_time": "2024-02-24T18:09:55.135098",
     "exception": false,
     "start_time": "2024-02-24T18:09:55.115048",
     "status": "completed"
    },
    "tags": []
   },
   "outputs": [],
   "source": [
    "# display the mode for Dependents\n",
    "loan['Dependents'].mode()[0]\n",
    "# Replace null values\n",
    "loan[\"Dependents\"].fillna(value=loan['Dependents'].mode()[0],inplace=True)"
   ]
  },
  {
   "cell_type": "code",
   "execution_count": 21,
   "id": "f28f257d",
   "metadata": {
    "execution": {
     "iopub.execute_input": "2024-02-24T18:09:55.155971Z",
     "iopub.status.busy": "2024-02-24T18:09:55.155540Z",
     "iopub.status.idle": "2024-02-24T18:09:55.162451Z",
     "shell.execute_reply": "2024-02-24T18:09:55.161305Z"
    },
    "papermill": {
     "duration": 0.019878,
     "end_time": "2024-02-24T18:09:55.164822",
     "exception": false,
     "start_time": "2024-02-24T18:09:55.144944",
     "status": "completed"
    },
    "tags": []
   },
   "outputs": [],
   "source": [
    "# display the mode for Self_Employed\n",
    "loan['Self_Employed'].mode()[0]\n",
    "# Replace null values\n",
    "loan[\"Self_Employed\"].fillna(value=loan['Self_Employed'].mode()[0],inplace=True)"
   ]
  },
  {
   "cell_type": "code",
   "execution_count": 22,
   "id": "f47e0681",
   "metadata": {
    "execution": {
     "iopub.execute_input": "2024-02-24T18:09:55.185702Z",
     "iopub.status.busy": "2024-02-24T18:09:55.185319Z",
     "iopub.status.idle": "2024-02-24T18:09:55.193870Z",
     "shell.execute_reply": "2024-02-24T18:09:55.192567Z"
    },
    "papermill": {
     "duration": 0.022047,
     "end_time": "2024-02-24T18:09:55.196573",
     "exception": false,
     "start_time": "2024-02-24T18:09:55.174526",
     "status": "completed"
    },
    "tags": []
   },
   "outputs": [
    {
     "name": "stderr",
     "output_type": "stream",
     "text": [
      "/tmp/ipykernel_18/3372253023.py:4: FutureWarning: A value is trying to be set on a copy of a DataFrame or Series through chained assignment using an inplace method.\n",
      "The behavior will change in pandas 3.0. This inplace method will never work because the intermediate object on which we are setting values always behaves as a copy.\n",
      "\n",
      "For example, when doing 'df[col].method(value, inplace=True)', try using 'df.method({col: value}, inplace=True)' or df[col] = df[col].method(value) instead, to perform the operation inplace on the original object.\n",
      "\n",
      "\n",
      "  loan[\"LoanAmount\"].fillna(value=loan['LoanAmount'].mode()[0],inplace=True)\n"
     ]
    }
   ],
   "source": [
    "# display the mode for LoanAmount\n",
    "loan['LoanAmount'].mode()[0]\n",
    "# Replace null values\n",
    "loan[\"LoanAmount\"].fillna(value=loan['LoanAmount'].mode()[0],inplace=True)"
   ]
  },
  {
   "cell_type": "code",
   "execution_count": 23,
   "id": "3b1112e6",
   "metadata": {
    "execution": {
     "iopub.execute_input": "2024-02-24T18:09:55.217862Z",
     "iopub.status.busy": "2024-02-24T18:09:55.217015Z",
     "iopub.status.idle": "2024-02-24T18:09:55.225510Z",
     "shell.execute_reply": "2024-02-24T18:09:55.223996Z"
    },
    "papermill": {
     "duration": 0.021082,
     "end_time": "2024-02-24T18:09:55.227410",
     "exception": false,
     "start_time": "2024-02-24T18:09:55.206328",
     "status": "completed"
    },
    "tags": []
   },
   "outputs": [
    {
     "name": "stderr",
     "output_type": "stream",
     "text": [
      "/tmp/ipykernel_18/624455236.py:4: FutureWarning: A value is trying to be set on a copy of a DataFrame or Series through chained assignment using an inplace method.\n",
      "The behavior will change in pandas 3.0. This inplace method will never work because the intermediate object on which we are setting values always behaves as a copy.\n",
      "\n",
      "For example, when doing 'df[col].method(value, inplace=True)', try using 'df.method({col: value}, inplace=True)' or df[col] = df[col].method(value) instead, to perform the operation inplace on the original object.\n",
      "\n",
      "\n",
      "  loan[\"Loan_Amount_Term\"].fillna(value=loan['Loan_Amount_Term'].mode()[0],inplace=True)\n"
     ]
    }
   ],
   "source": [
    "# display the mode for Loan_Amount_Term\n",
    "loan['Loan_Amount_Term'].mode()[0]\n",
    "# Replace null values\n",
    "loan[\"Loan_Amount_Term\"].fillna(value=loan['Loan_Amount_Term'].mode()[0],inplace=True)"
   ]
  },
  {
   "cell_type": "code",
   "execution_count": 24,
   "id": "4b016c2c",
   "metadata": {
    "execution": {
     "iopub.execute_input": "2024-02-24T18:09:55.249234Z",
     "iopub.status.busy": "2024-02-24T18:09:55.248827Z",
     "iopub.status.idle": "2024-02-24T18:09:55.257162Z",
     "shell.execute_reply": "2024-02-24T18:09:55.255596Z"
    },
    "papermill": {
     "duration": 0.022565,
     "end_time": "2024-02-24T18:09:55.259587",
     "exception": false,
     "start_time": "2024-02-24T18:09:55.237022",
     "status": "completed"
    },
    "tags": []
   },
   "outputs": [
    {
     "name": "stderr",
     "output_type": "stream",
     "text": [
      "/tmp/ipykernel_18/3330087855.py:4: FutureWarning: A value is trying to be set on a copy of a DataFrame or Series through chained assignment using an inplace method.\n",
      "The behavior will change in pandas 3.0. This inplace method will never work because the intermediate object on which we are setting values always behaves as a copy.\n",
      "\n",
      "For example, when doing 'df[col].method(value, inplace=True)', try using 'df.method({col: value}, inplace=True)' or df[col] = df[col].method(value) instead, to perform the operation inplace on the original object.\n",
      "\n",
      "\n",
      "  loan[\"Credit_History\"].fillna(value=loan['Credit_History'].mode()[0],inplace=True)\n"
     ]
    }
   ],
   "source": [
    "# display the mode for Credit_History\n",
    "loan['Credit_History'].mode()[0]\n",
    "# Replace null values\n",
    "loan[\"Credit_History\"].fillna(value=loan['Credit_History'].mode()[0],inplace=True)"
   ]
  },
  {
   "cell_type": "code",
   "execution_count": 25,
   "id": "7d6615e3",
   "metadata": {
    "execution": {
     "iopub.execute_input": "2024-02-24T18:09:55.280315Z",
     "iopub.status.busy": "2024-02-24T18:09:55.279966Z",
     "iopub.status.idle": "2024-02-24T18:09:55.289725Z",
     "shell.execute_reply": "2024-02-24T18:09:55.288501Z"
    },
    "papermill": {
     "duration": 0.022989,
     "end_time": "2024-02-24T18:09:55.292158",
     "exception": false,
     "start_time": "2024-02-24T18:09:55.269169",
     "status": "completed"
    },
    "tags": []
   },
   "outputs": [
    {
     "data": {
      "text/plain": [
       "Loan_ID              0\n",
       "Gender               0\n",
       "Married              0\n",
       "Dependents           0\n",
       "Education            0\n",
       "Self_Employed        0\n",
       "ApplicantIncome      0\n",
       "CoapplicantIncome    0\n",
       "LoanAmount           0\n",
       "Loan_Amount_Term     0\n",
       "Credit_History       0\n",
       "Property_Area        0\n",
       "Loan_Status          0\n",
       "dtype: int64"
      ]
     },
     "execution_count": 25,
     "metadata": {},
     "output_type": "execute_result"
    }
   ],
   "source": [
    "loan.isnull().sum()"
   ]
  },
  {
   "cell_type": "code",
   "execution_count": 26,
   "id": "349beda6",
   "metadata": {
    "execution": {
     "iopub.execute_input": "2024-02-24T18:09:55.315172Z",
     "iopub.status.busy": "2024-02-24T18:09:55.313663Z",
     "iopub.status.idle": "2024-02-24T18:09:55.322883Z",
     "shell.execute_reply": "2024-02-24T18:09:55.321080Z"
    },
    "papermill": {
     "duration": 0.023331,
     "end_time": "2024-02-24T18:09:55.325323",
     "exception": false,
     "start_time": "2024-02-24T18:09:55.301992",
     "status": "completed"
    },
    "tags": []
   },
   "outputs": [],
   "source": [
    "loan = loan.drop('Loan_ID', axis=1)"
   ]
  },
  {
   "cell_type": "code",
   "execution_count": 27,
   "id": "1b588434",
   "metadata": {
    "execution": {
     "iopub.execute_input": "2024-02-24T18:09:55.347591Z",
     "iopub.status.busy": "2024-02-24T18:09:55.347266Z",
     "iopub.status.idle": "2024-02-24T18:09:55.876278Z",
     "shell.execute_reply": "2024-02-24T18:09:55.875241Z"
    },
    "papermill": {
     "duration": 0.542844,
     "end_time": "2024-02-24T18:09:55.878316",
     "exception": false,
     "start_time": "2024-02-24T18:09:55.335472",
     "status": "completed"
    },
    "tags": []
   },
   "outputs": [
    {
     "data": {
      "image/png": "[encoded data removed]",
      "text/plain": [
       "<Figure size 640x480 with 2 Axes>"
      ]
     },
     "metadata": {},
     "output_type": "display_data"
    }
   ],
   "source": [
    "corr_matrix = loan.corr()\n",
    "sns.heatmap(corr_matrix, annot=True)\n",
    "plt.show()"
   ]
  },
  {
   "cell_type": "code",
   "execution_count": 28,
   "id": "095f9204",
   "metadata": {
    "execution": {
     "iopub.execute_input": "2024-02-24T18:09:55.902094Z",
     "iopub.status.busy": "2024-02-24T18:09:55.901586Z",
     "iopub.status.idle": "2024-02-24T18:09:55.921261Z",
     "shell.execute_reply": "2024-02-24T18:09:55.920082Z"
    },
    "papermill": {
     "duration": 0.033722,
     "end_time": "2024-02-24T18:09:55.923201",
     "exception": false,
     "start_time": "2024-02-24T18:09:55.889479",
     "status": "completed"
    },
    "tags": []
   },
   "outputs": [
    {
     "data": {
      "text/html": [
       "<div>\n",
       "<style scoped>\n",
       "    .dataframe tbody tr th:only-of-type {\n",
       "        vertical-align: middle;\n",
       "    }\n",
       "\n",
       "    .dataframe tbody tr th {\n",
       "        vertical-align: top;\n",
       "    }\n",
       "\n",
       "    .dataframe thead th {\n",
       "        text-align: right;\n",
       "    }\n",
       "</style>\n",
       "<table border=\"1\" class=\"dataframe\">\n",
       "  <thead>\n",
       "    <tr style=\"text-align: right;\">\n",
       "      <th></th>\n",
       "      <th>Gender</th>\n",
       "      <th>Married</th>\n",
       "      <th>Dependents</th>\n",
       "      <th>Education</th>\n",
       "      <th>Self_Employed</th>\n",
       "      <th>ApplicantIncome</th>\n",
       "      <th>CoapplicantIncome</th>\n",
       "      <th>LoanAmount</th>\n",
       "      <th>Loan_Amount_Term</th>\n",
       "      <th>Credit_History</th>\n",
       "      <th>Property_Area</th>\n",
       "    </tr>\n",
       "  </thead>\n",
       "  <tbody>\n",
       "    <tr>\n",
       "      <th>0</th>\n",
       "      <td>1.0</td>\n",
       "      <td>0.0</td>\n",
       "      <td>0.0</td>\n",
       "      <td>1</td>\n",
       "      <td>0.0</td>\n",
       "      <td>5849</td>\n",
       "      <td>0.0</td>\n",
       "      <td>120.0</td>\n",
       "      <td>360.0</td>\n",
       "      <td>1.0</td>\n",
       "      <td>2</td>\n",
       "    </tr>\n",
       "    <tr>\n",
       "      <th>1</th>\n",
       "      <td>1.0</td>\n",
       "      <td>1.0</td>\n",
       "      <td>1.0</td>\n",
       "      <td>1</td>\n",
       "      <td>0.0</td>\n",
       "      <td>4583</td>\n",
       "      <td>1508.0</td>\n",
       "      <td>128.0</td>\n",
       "      <td>360.0</td>\n",
       "      <td>1.0</td>\n",
       "      <td>0</td>\n",
       "    </tr>\n",
       "    <tr>\n",
       "      <th>2</th>\n",
       "      <td>1.0</td>\n",
       "      <td>1.0</td>\n",
       "      <td>0.0</td>\n",
       "      <td>1</td>\n",
       "      <td>1.0</td>\n",
       "      <td>3000</td>\n",
       "      <td>0.0</td>\n",
       "      <td>66.0</td>\n",
       "      <td>360.0</td>\n",
       "      <td>1.0</td>\n",
       "      <td>2</td>\n",
       "    </tr>\n",
       "    <tr>\n",
       "      <th>3</th>\n",
       "      <td>1.0</td>\n",
       "      <td>1.0</td>\n",
       "      <td>0.0</td>\n",
       "      <td>0</td>\n",
       "      <td>0.0</td>\n",
       "      <td>2583</td>\n",
       "      <td>2358.0</td>\n",
       "      <td>120.0</td>\n",
       "      <td>360.0</td>\n",
       "      <td>1.0</td>\n",
       "      <td>2</td>\n",
       "    </tr>\n",
       "    <tr>\n",
       "      <th>4</th>\n",
       "      <td>1.0</td>\n",
       "      <td>0.0</td>\n",
       "      <td>0.0</td>\n",
       "      <td>1</td>\n",
       "      <td>0.0</td>\n",
       "      <td>6000</td>\n",
       "      <td>0.0</td>\n",
       "      <td>141.0</td>\n",
       "      <td>360.0</td>\n",
       "      <td>1.0</td>\n",
       "      <td>2</td>\n",
       "    </tr>\n",
       "  </tbody>\n",
       "</table>\n",
       "</div>"
      ],
      "text/plain": [
       "   Gender  Married  Dependents  Education  Self_Employed  ApplicantIncome  \\\n",
       "0     1.0      0.0         0.0          1            0.0             5849   \n",
       "1     1.0      1.0         1.0          1            0.0             4583   \n",
       "2     1.0      1.0         0.0          1            1.0             3000   \n",
       "3     1.0      1.0         0.0          0            0.0             2583   \n",
       "4     1.0      0.0         0.0          1            0.0             6000   \n",
       "\n",
       "   CoapplicantIncome  LoanAmount  Loan_Amount_Term  Credit_History  \\\n",
       "0                0.0       120.0             360.0             1.0   \n",
       "1             1508.0       128.0             360.0             1.0   \n",
       "2                0.0        66.0             360.0             1.0   \n",
       "3             2358.0       120.0             360.0             1.0   \n",
       "4                0.0       141.0             360.0             1.0   \n",
       "\n",
       "   Property_Area  \n",
       "0              2  \n",
       "1              0  \n",
       "2              2  \n",
       "3              2  \n",
       "4              2  "
      ]
     },
     "execution_count": 28,
     "metadata": {},
     "output_type": "execute_result"
    }
   ],
   "source": [
    "# Create the attribute and target data\n",
    "X=loan.drop('Loan_Status',axis=1)\n",
    "Y=loan[\"Loan_Status\"]\n",
    "X.head()"
   ]
  },
  {
   "cell_type": "code",
   "execution_count": 29,
   "id": "8ec69106",
   "metadata": {
    "execution": {
     "iopub.execute_input": "2024-02-24T18:09:55.952029Z",
     "iopub.status.busy": "2024-02-24T18:09:55.951612Z",
     "iopub.status.idle": "2024-02-24T18:09:55.961301Z",
     "shell.execute_reply": "2024-02-24T18:09:55.959594Z"
    },
    "papermill": {
     "duration": 0.028438,
     "end_time": "2024-02-24T18:09:55.963932",
     "exception": false,
     "start_time": "2024-02-24T18:09:55.935494",
     "status": "completed"
    },
    "tags": []
   },
   "outputs": [
    {
     "name": "stdout",
     "output_type": "stream",
     "text": [
      "(614, 11) (552, 11) (62, 11)\n"
     ]
    }
   ],
   "source": [
    "# Split the data into training and test data using train_test_split() function\n",
    "X_train,X_test,Y_train,Y_test=train_test_split(X,Y,test_size=0.1, stratify=Y, random_state=2)\n",
    "print(X.shape,X_train.shape,X_test.shape)"
   ]
  },
  {
   "cell_type": "code",
   "execution_count": 30,
   "id": "eb2320e1",
   "metadata": {
    "execution": {
     "iopub.execute_input": "2024-02-24T18:09:55.996543Z",
     "iopub.status.busy": "2024-02-24T18:09:55.995498Z",
     "iopub.status.idle": "2024-02-24T18:11:44.405471Z",
     "shell.execute_reply": "2024-02-24T18:11:44.404174Z"
    },
    "papermill": {
     "duration": 108.438459,
     "end_time": "2024-02-24T18:11:44.418095",
     "exception": false,
     "start_time": "2024-02-24T18:09:55.979636",
     "status": "completed"
    },
    "tags": []
   },
   "outputs": [
    {
     "data": {
      "text/html": [
       "<style>#sk-container-id-1 {color: black;background-color: white;}#sk-container-id-1 pre{padding: 0;}#sk-container-id-1 div.sk-toggleable {background-color: white;}#sk-container-id-1 label.sk-toggleable__label {cursor: pointer;display: block;width: 100%;margin-bottom: 0;padding: 0.3em;box-sizing: border-box;text-align: center;}#sk-container-id-1 label.sk-toggleable__label-arrow:before {content: \"▸\";float: left;margin-right: 0.25em;color: #696969;}#sk-container-id-1 label.sk-toggleable__label-arrow:hover:before {color: black;}#sk-container-id-1 div.sk-estimator:hover label.sk-toggleable__label-arrow:before {color: black;}#sk-container-id-1 div.sk-toggleable__content {max-height: 0;max-width: 0;overflow: hidden;text-align: left;background-color: #f0f8ff;}#sk-container-id-1 div.sk-toggleable__content pre {margin: 0.2em;color: black;border-radius: 0.25em;background-color: #f0f8ff;}#sk-container-id-1 input.sk-toggleable__control:checked~div.sk-toggleable__content {max-height: 200px;max-width: 100%;overflow: auto;}#sk-container-id-1 input.sk-toggleable__control:checked~label.sk-toggleable__label-arrow:before {content: \"▾\";}#sk-container-id-1 div.sk-estimator input.sk-toggleable__control:checked~label.sk-toggleable__label {background-color: #d4ebff;}#sk-container-id-1 div.sk-label input.sk-toggleable__control:checked~label.sk-toggleable__label {background-color: #d4ebff;}#sk-container-id-1 input.sk-hidden--visually {border: 0;clip: rect(1px 1px 1px 1px);clip: rect(1px, 1px, 1px, 1px);height: 1px;margin: -1px;overflow: hidden;padding: 0;position: absolute;width: 1px;}#sk-container-id-1 div.sk-estimator {font-family: monospace;background-color: #f0f8ff;border: 1px dotted black;border-radius: 0.25em;box-sizing: border-box;margin-bottom: 0.5em;}#sk-container-id-1 div.sk-estimator:hover {background-color: #d4ebff;}#sk-container-id-1 div.sk-parallel-item::after {content: \"\";width: 100%;border-bottom: 1px solid gray;flex-grow: 1;}#sk-container-id-1 div.sk-label:hover label.sk-toggleable__label {background-color: #d4ebff;}#sk-container-id-1 div.sk-serial::before {content: \"\";position: absolute;border-left: 1px solid gray;box-sizing: border-box;top: 0;bottom: 0;left: 50%;z-index: 0;}#sk-container-id-1 div.sk-serial {display: flex;flex-direction: column;align-items: center;background-color: white;padding-right: 0.2em;padding-left: 0.2em;position: relative;}#sk-container-id-1 div.sk-item {position: relative;z-index: 1;}#sk-container-id-1 div.sk-parallel {display: flex;align-items: stretch;justify-content: center;background-color: white;position: relative;}#sk-container-id-1 div.sk-item::before, #sk-container-id-1 div.sk-parallel-item::before {content: \"\";position: absolute;border-left: 1px solid gray;box-sizing: border-box;top: 0;bottom: 0;left: 50%;z-index: -1;}#sk-container-id-1 div.sk-parallel-item {display: flex;flex-direction: column;z-index: 1;position: relative;background-color: white;}#sk-container-id-1 div.sk-parallel-item:first-child::after {align-self: flex-end;width: 50%;}#sk-container-id-1 div.sk-parallel-item:last-child::after {align-self: flex-start;width: 50%;}#sk-container-id-1 div.sk-parallel-item:only-child::after {width: 0;}#sk-container-id-1 div.sk-dashed-wrapped {border: 1px dashed gray;margin: 0 0.4em 0.5em 0.4em;box-sizing: border-box;padding-bottom: 0.4em;background-color: white;}#sk-container-id-1 div.sk-label label {font-family: monospace;font-weight: bold;display: inline-block;line-height: 1.2em;}#sk-container-id-1 div.sk-label-container {text-align: center;}#sk-container-id-1 div.sk-container {/* jupyter's `normalize.less` sets `[hidden] { display: none; }` but bootstrap.min.css set `[hidden] { display: none !important; }` so we also need the `!important` here to be able to override the default hidden behavior on the sphinx rendered scikit-learn.org. See: https://github.com/scikit-learn/scikit-learn/issues/21755 */display: inline-block !important;position: relative;}#sk-container-id-1 div.sk-text-repr-fallback {display: none;}</style><div id=\"sk-container-id-1\" class=\"sk-top-container\"><div class=\"sk-text-repr-fallback\"><pre>SVC(kernel=&#x27;linear&#x27;)</pre><b>In a Jupyter environment, please rerun this cell to show the HTML representation or trust the notebook. <br />On GitHub, the HTML representation is unable to render, please try loading this page with nbviewer.org.</b></div><div class=\"sk-container\" hidden><div class=\"sk-item\"><div class=\"sk-estimator sk-toggleable\"><input class=\"sk-toggleable__control sk-hidden--visually\" id=\"sk-estimator-id-1\" type=\"checkbox\" checked><label for=\"sk-estimator-id-1\" class=\"sk-toggleable__label sk-toggleable__label-arrow\">SVC</label><div class=\"sk-toggleable__content\"><pre>SVC(kernel=&#x27;linear&#x27;)</pre></div></div></div></div></div>"
      ],
      "text/plain": [
       "SVC(kernel='linear')"
      ]
     },
     "execution_count": 30,
     "metadata": {},
     "output_type": "execute_result"
    }
   ],
   "source": [
    "model = svm.SVC(kernel='linear')\n",
    "model.fit(X_train,Y_train)"
   ]
  },
  {
   "cell_type": "code",
   "execution_count": 31,
   "id": "fd241be0",
   "metadata": {
    "execution": {
     "iopub.execute_input": "2024-02-24T18:11:44.442850Z",
     "iopub.status.busy": "2024-02-24T18:11:44.442511Z",
     "iopub.status.idle": "2024-02-24T18:11:44.458770Z",
     "shell.execute_reply": "2024-02-24T18:11:44.457617Z"
    },
    "papermill": {
     "duration": 0.031572,
     "end_time": "2024-02-24T18:11:44.461145",
     "exception": false,
     "start_time": "2024-02-24T18:11:44.429573",
     "status": "completed"
    },
    "tags": []
   },
   "outputs": [
    {
     "name": "stdout",
     "output_type": "stream",
     "text": [
      "Accuracy on training data:  0.7898550724637681\n",
      "Precision on training data: 0.7700205338809035\n",
      "Recall on training data: 0.9894459102902374\n"
     ]
    }
   ],
   "source": [
    "# Evaluate using the training data\n",
    "train_predict=model.predict(X_train)\n",
    "print(\"Accuracy on training data: \", metrics.accuracy_score(Y_train, train_predict))\n",
    "print(\"Precision on training data:\", metrics.precision_score(Y_train, train_predict))\n",
    "print(\"Recall on training data:\", metrics.recall_score(Y_train, train_predict))"
   ]
  },
  {
   "cell_type": "code",
   "execution_count": 32,
   "id": "e46bdbc9",
   "metadata": {
    "execution": {
     "iopub.execute_input": "2024-02-24T18:11:44.487910Z",
     "iopub.status.busy": "2024-02-24T18:11:44.487481Z",
     "iopub.status.idle": "2024-02-24T18:11:44.501488Z",
     "shell.execute_reply": "2024-02-24T18:11:44.500166Z"
    },
    "papermill": {
     "duration": 0.029186,
     "end_time": "2024-02-24T18:11:44.503454",
     "exception": false,
     "start_time": "2024-02-24T18:11:44.474268",
     "status": "completed"
    },
    "tags": []
   },
   "outputs": [
    {
     "name": "stdout",
     "output_type": "stream",
     "text": [
      "Accuracy on testing data:  0.8225806451612904\n",
      "Precision on testing data: 0.8076923076923077\n",
      "Recall on testing data:  0.9767441860465116\n"
     ]
    }
   ],
   "source": [
    "# Evaluate using the testing data\n",
    "test_predict=model.predict(X_test)\n",
    "print(\"Accuracy on testing data: \", metrics.accuracy_score(Y_test, test_predict))\n",
    "print(\"Precision on testing data:\", metrics.precision_score(Y_test, test_predict))\n",
    "print(\"Recall on testing data: \", metrics.recall_score(Y_test, test_predict))"
   ]
  },
  {
   "cell_type": "code",
   "execution_count": 33,
   "id": "5d004fcf",
   "metadata": {
    "execution": {
     "iopub.execute_input": "2024-02-24T18:11:44.527836Z",
     "iopub.status.busy": "2024-02-24T18:11:44.527534Z",
     "iopub.status.idle": "2024-02-24T18:11:44.536368Z",
     "shell.execute_reply": "2024-02-24T18:11:44.534885Z"
    },
    "papermill": {
     "duration": 0.023898,
     "end_time": "2024-02-24T18:11:44.538770",
     "exception": false,
     "start_time": "2024-02-24T18:11:44.514872",
     "status": "completed"
    },
    "tags": []
   },
   "outputs": [
    {
     "name": "stdout",
     "output_type": "stream",
     "text": [
      "TN=9, FP=10, FN=1, TP=42\n"
     ]
    }
   ],
   "source": [
    "# Create Confusion Matrix\n",
    "cm = metrics.confusion_matrix(Y_test, test_predict)\n",
    "TN, FP, FN, TP = cm.ravel()\n",
    "print(\"TN={0}, FP={1}, FN={2}, TP={3}\".format(TN, FP, FN, TP))"
   ]
  },
  {
   "cell_type": "code",
   "execution_count": 34,
   "id": "6052e499",
   "metadata": {
    "execution": {
     "iopub.execute_input": "2024-02-24T18:11:44.564197Z",
     "iopub.status.busy": "2024-02-24T18:11:44.563827Z",
     "iopub.status.idle": "2024-02-24T18:11:44.766790Z",
     "shell.execute_reply": "2024-02-24T18:11:44.765421Z"
    },
    "papermill": {
     "duration": 0.218795,
     "end_time": "2024-02-24T18:11:44.769465",
     "exception": false,
     "start_time": "2024-02-24T18:11:44.550670",
     "status": "completed"
    },
    "tags": []
   },
   "outputs": [
    {
     "data": {
      "text/plain": [
       "<sklearn.metrics._plot.confusion_matrix.ConfusionMatrixDisplay at 0x7f68b3072a40>"
      ]
     },
     "execution_count": 34,
     "metadata": {},
     "output_type": "execute_result"
    },
    {
     "data": {
      "image/png": "[encoded data removed]",
      "text/plain": [
       "<Figure size 640x480 with 2 Axes>"
      ]
     },
     "metadata": {},
     "output_type": "display_data"
    }
   ],
   "source": [
    "disp = metrics.ConfusionMatrixDisplay(confusion_matrix=cm)\n",
    "disp.plot()\n"
   ]
  },
  {
   "cell_type": "code",
   "execution_count": 35,
   "id": "ee00ec49",
   "metadata": {
    "execution": {
     "iopub.execute_input": "2024-02-24T18:11:44.795351Z",
     "iopub.status.busy": "2024-02-24T18:11:44.795004Z",
     "iopub.status.idle": "2024-02-24T18:11:44.801381Z",
     "shell.execute_reply": "2024-02-24T18:11:44.800186Z"
    },
    "papermill": {
     "duration": 0.021537,
     "end_time": "2024-02-24T18:11:44.803210",
     "exception": false,
     "start_time": "2024-02-24T18:11:44.781673",
     "status": "completed"
    },
    "tags": []
   },
   "outputs": [
    {
     "name": "stdout",
     "output_type": "stream",
     "text": [
      "Calculated accuracy =  0.8225806451612904\n",
      "Calculated precision =  0.8076923076923077\n",
      "Calculated recall =  0.9767441860465116\n"
     ]
    }
   ],
   "source": [
    "# Calculate the accuracy, precision and recall from the confusion matrix\n",
    "calculated_accuracy = (TP+TN)/(TP+TN+FP+FN)\n",
    "calculated_precision = (TP)/(TP+FP)\n",
    "calculated_recall = (TP)/(TP+FN)\n",
    "print(\"Calculated accuracy = \", calculated_accuracy)\n",
    "print(\"Calculated precision = \", calculated_precision)\n",
    "print(\"Calculated recall = \", calculated_recall)"
   ]
  }
 ],
 "metadata": {
  "kaggle": {
   "accelerator": "none",
   "dataSources": [
    {
     "datasetId": 15953,
     "sourceId": 21070,
     "sourceType": "datasetVersion"
    }
   ],
   "dockerImageVersionId": 30646,
   "isGpuEnabled": false,
   "isInternetEnabled": false,
   "language": "python",
   "sourceType": "notebook"
  },
  "kernelspec": {
   "display_name": "Python 3",
   "language": "python",
   "name": "python3"
  },
  "language_info": {
   "codemirror_mode": {
    "name": "ipython",
    "version": 3
   },
   "file_extension": ".py",
   "mimetype": "text/x-python",
   "name": "python",
   "nbconvert_exporter": "python",
   "pygments_lexer": "ipython3",
   "version": "3.10.13"
  },
  "papermill": {
   "default_parameters": {},
   "duration": 117.761456,
   "end_time": "2024-02-24T18:11:45.537619",
   "environment_variables": {},
   "exception": null,
   "input_path": "__notebook__.ipynb",
   "output_path": "__notebook__.ipynb",
   "parameters": {},
   "start_time": "2024-02-24T18:09:47.776163",
   "version": "2.5.0"
  }
 },
 "nbformat": 4,
 "nbformat_minor": 5
}
